{
 "cells": [
  {
   "cell_type": "code",
   "execution_count": null,
   "metadata": {},
   "outputs": [
    {
     "name": "stdout",
     "output_type": "stream",
     "text": [
      "enter the employee name to be addedsyed\n",
      "enter the employee name to be addedrouhan\n",
      "enter the employee name to be addedali\n",
      "enter the employee name to be addedq\n",
      "enter the employee name to be addedq\n",
      "enter the employee name to be addedq\n"
     ]
    }
   ],
   "source": [
    "emp = []\n",
    "gEmp = []\n",
    "bEmp = []\n",
    "\n",
    "flag = True\n",
    "while flag:\n",
    "        employee = input(\"enter the employee name to be added\")\n",
    "        \n",
    "        if emp==\"q\":\n",
    "            flag = False\n",
    "        else:\n",
    "            emp.append(employee)\n",
    "            \n",
    "print(\"the employee in the list are: \" , emp) \n",
    "\n",
    "flag = True\n",
    "while flag:\n",
    "    name.s"
   ]
  },
  {
   "cell_type": "code",
   "execution_count": null,
   "metadata": {},
   "outputs": [],
   "source": []
  }
 ],
 "metadata": {
  "kernelspec": {
   "display_name": "Python 3",
   "language": "python",
   "name": "python3"
  },
  "language_info": {
   "codemirror_mode": {
    "name": "ipython",
    "version": 3
   },
   "file_extension": ".py",
   "mimetype": "text/x-python",
   "name": "python",
   "nbconvert_exporter": "python",
   "pygments_lexer": "ipython3",
   "version": "3.7.4"
  }
 },
 "nbformat": 4,
 "nbformat_minor": 2
}
